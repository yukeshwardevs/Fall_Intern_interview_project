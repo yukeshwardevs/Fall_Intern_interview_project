{
  "nbformat": 4,
  "nbformat_minor": 0,
  "metadata": {
    "colab": {
      "provenance": []
    },
    "kernelspec": {
      "name": "python3",
      "display_name": "Python 3"
    },
    "language_info": {
      "name": "python"
    }
  },
  "cells": [
    {
      "cell_type": "markdown",
      "source": [
        "This can be a potential solution to the problem of gender bias in future movie.\n",
        "Here I'm swapping the gender specific contexts and giving a script which is reverse biased."
      ],
      "metadata": {
        "id": "4DZggzbZPzLL"
      }
    },
    {
      "cell_type": "code",
      "execution_count": null,
      "metadata": {
        "id": "ptVAgk9bO3QZ"
      },
      "outputs": [],
      "source": [
        "import os\n",
        "import PyPDF2\n",
        "import re\n",
        "from bs4 import BeautifulSoup\n",
        "\n",
        "# Function to extract text from PDF\n",
        "def extract_text_from_pdf(pdf_path):\n",
        "    text = ''\n",
        "    with open(pdf_path, 'rb') as file:\n",
        "        reader = PyPDF2.PdfFileReader(file)\n",
        "        for page_number in range(reader.numPages):\n",
        "            text += reader.getPage(page_number).extractText()\n",
        "    return text\n",
        "\n",
        "# Function to convert text to HTML\n",
        "def text_to_html(text):\n",
        "    #I've assumed the script to be preprocessed and fed for simplicity of the model\n",
        "    # Converting text to HTML\n",
        "    html = '<html><body>{}</body></html>'.format(text)\n",
        "    return html\n",
        "\n",
        "# Function to swap gender-specific pronouns and names\n",
        "def swap_gender_context(dialogue):\n",
        "    # I'm replacing gender-specific pronouns and names\n",
        "    dialogue = re.sub(r'\\b(he|him|his)\\b', 'she', dialogue, flags=re.IGNORECASE)\n",
        "    dialogue = re.sub(r'\\b(himself)\\b', 'herself', dialogue, flags=re.IGNORECASE)\n",
        "    dialogue = re.sub(r'\\b(his)\\b', 'her', dialogue, flags=re.IGNORECASE)\n",
        "    dialogue = re.sub(r'\\b(boy|man|actor)\\b', 'girl', dialogue, flags=re.IGNORECASE)\n",
        "    dialogue = re.sub(r'\\b(male)\\b', 'female', dialogue, flags=re.IGNORECASE)\n",
        "    dialogue = re.sub(r'\\b(men|guys|boys|actors)\\b', 'girls', dialogue, flags=re.IGNORECASE)\n",
        "    # We can add mode pronouns specifing gender as required\n",
        "    return dialogue\n",
        "\n",
        "# Function to extract dialogues for a given cast member\n",
        "def extract_dialogues(html, cast_member):\n",
        "    soup = BeautifulSoup(html, 'html.parser')\n",
        "    dialogues = []\n",
        "    for element in soup.find_all('p'):\n",
        "        # I'm assuming dialogues are within <p> tags\n",
        "        dialogue_text = element.get_text()\n",
        "        if cast_member in dialogue_text:\n",
        "            dialogues.append(swap_gender_context(dialogue_text))\n",
        "    return dialogues\n",
        "\n",
        "# Performing analysis on the extracted dialogues\n",
        "def perform_analysis(dialogues):\n",
        "    pass\n",
        "\n",
        "def main(input_dir):\n",
        "    for filename in os.listdir(input_dir):\n",
        "        if filename.endswith(\".pdf\"):\n",
        "            pdf_path = os.path.join(input_dir, filename)\n",
        "            text = extract_text_from_pdf(pdf_path)\n",
        "            html = text_to_html(text)\n",
        "\n",
        "            cast_member = \"John\"\n",
        "            dialogues = extract_dialogues(html, cast_member)\n",
        "\n",
        "            # Performing analysis on the extracted dialogues by calling function\n",
        "            perform_analysis(dialogues)\n",
        "\n",
        "input_dir = \"/content/drive/MyDrive/Bollywood-Data-master/scripts-data\"\n",
        "main(input_dir)\n"
      ]
    }
  ]
}